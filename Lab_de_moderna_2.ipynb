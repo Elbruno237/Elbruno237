{
 "cells": [
  {
   "cell_type": "markdown",
   "id": "bcf2c19f-0c6d-464d-94f6-56ce6ce66298",
   "metadata": {},
   "source": [
    "# Lab de moderna"
   ]
  },
  {
   "cell_type": "code",
   "execution_count": 1,
   "id": "4103d762-0507-42f4-a2ce-e9a0fcb12df8",
   "metadata": {},
   "outputs": [],
   "source": [
    "import numpy as np\n",
    "import pandas as pd\n",
    "import matplotlib.pyplot as plt\n",
    "from scipy.constants import Planck, electron_mass, e\n",
    "from scipy import stats"
   ]
  },
  {
   "cell_type": "code",
   "execution_count": 2,
   "id": "24b3b8ce-8664-4153-8449-2e6740cac194",
   "metadata": {},
   "outputs": [],
   "source": [
    "R = 6.5*1e-2\n",
    "carga = e\n",
    "h = Planck\n",
    "me = electron_mass\n",
    "\n",
    "data = {\n",
    "    'D1': np.array([19.1,22.6,25.7,26.8,30.1])*1e-3,\n",
    "    'D2': np.array([35.2,42.7,43.8,47.1,50.6])*1e-3,\n",
    "    'V': np.array([6.74,4.23,4.02,3.66,2.95])*1e3\n",
    "}"
   ]
  },
  {
   "cell_type": "code",
   "execution_count": 3,
   "id": "b05a78f3-a48a-4575-9017-524b6fee4af7",
   "metadata": {},
   "outputs": [
    {
     "data": {
      "text/html": [
       "<div>\n",
       "<style scoped>\n",
       "    .dataframe tbody tr th:only-of-type {\n",
       "        vertical-align: middle;\n",
       "    }\n",
       "\n",
       "    .dataframe tbody tr th {\n",
       "        vertical-align: top;\n",
       "    }\n",
       "\n",
       "    .dataframe thead th {\n",
       "        text-align: right;\n",
       "    }\n",
       "</style>\n",
       "<table border=\"1\" class=\"dataframe\">\n",
       "  <thead>\n",
       "    <tr style=\"text-align: right;\">\n",
       "      <th></th>\n",
       "      <th>D1</th>\n",
       "      <th>D2</th>\n",
       "      <th>V</th>\n",
       "    </tr>\n",
       "  </thead>\n",
       "  <tbody>\n",
       "    <tr>\n",
       "      <th>0</th>\n",
       "      <td>0.0191</td>\n",
       "      <td>0.0352</td>\n",
       "      <td>6740.0</td>\n",
       "    </tr>\n",
       "    <tr>\n",
       "      <th>1</th>\n",
       "      <td>0.0226</td>\n",
       "      <td>0.0427</td>\n",
       "      <td>4230.0</td>\n",
       "    </tr>\n",
       "    <tr>\n",
       "      <th>2</th>\n",
       "      <td>0.0257</td>\n",
       "      <td>0.0438</td>\n",
       "      <td>4020.0</td>\n",
       "    </tr>\n",
       "    <tr>\n",
       "      <th>3</th>\n",
       "      <td>0.0268</td>\n",
       "      <td>0.0471</td>\n",
       "      <td>3660.0</td>\n",
       "    </tr>\n",
       "    <tr>\n",
       "      <th>4</th>\n",
       "      <td>0.0301</td>\n",
       "      <td>0.0506</td>\n",
       "      <td>2950.0</td>\n",
       "    </tr>\n",
       "  </tbody>\n",
       "</table>\n",
       "</div>"
      ],
      "text/plain": [
       "       D1      D2       V\n",
       "0  0.0191  0.0352  6740.0\n",
       "1  0.0226  0.0427  4230.0\n",
       "2  0.0257  0.0438  4020.0\n",
       "3  0.0268  0.0471  3660.0\n",
       "4  0.0301  0.0506  2950.0"
      ]
     },
     "execution_count": 3,
     "metadata": {},
     "output_type": "execute_result"
    }
   ],
   "source": [
    "df = pd.DataFrame(data)\n",
    "df"
   ]
  },
  {
   "cell_type": "code",
   "execution_count": 4,
   "id": "b92cb6bd-2777-4f10-94cd-d424eb2a9d3c",
   "metadata": {},
   "outputs": [],
   "source": [
    "def lab_moderna(x,y,x_max,y_max,xlabel,ylabel,title):\n",
    "    # PASSO 2: gerar polinômio (forçando o intercepto na origem)\n",
    "    coeficientes = np.polyfit(x, y, 1, full=False, cov=False)\n",
    "    polinomio = np.poly1d(coeficientes)\n",
    "    #slope, intercept, r_value, p_value, std_err = stats.linregress(x, y)\n",
    "    \n",
    "    # PASSO 3: gerar variáveis para R^2\n",
    "    y_experimental = y\n",
    "    y_ajuste = polinomio(x)\n",
    "\n",
    "    # PASSO 4: definir R^2\n",
    "    '''\n",
    "    def R_2(y_experimental, y_ajuste):\n",
    "        s_q_r = np.sum((y_experimental - y_ajuste)**2)   # Soma dos Quadrados Resíduos\n",
    "        s_t_q = np.sum((y_experimental - np.mean(y_experimental))**2)   # Soma Total dos Quadrados\n",
    "        return 1 - (s_q_r) / (s_t_q)\n",
    "    '''\n",
    "    # PASSO 5: definir variáveis para o gráfico\n",
    "    x_grafico = np.linspace(min(x), max(x), 100)\n",
    "    y_grafico = polinomio(x_grafico)\n",
    "\n",
    "    x_grafico2 = np.linspace(0, 1e5, 100)\n",
    "    y_grafico2 = x_grafico2*coeficientes[0]\n",
    "\n",
    "    plt.ylim(0,y_max)\n",
    "    plt.xlim(0,x_max)\n",
    "    \n",
    "    xl = np.linspace(-1,10,100)\n",
    "    yl = coeficientes[0]*xl\n",
    "    # PASSO 6: plotar dados e linha de tendência\n",
    "    #plt.style.use('seaborn-v0.8')\n",
    "    plt.scatter(x*1e4, y*1e4, color='blue', label='Dados')\n",
    "    plt.title(f'{title}', fontsize=14, weight='bold')\n",
    "    #plt.xticks(np.unique(x)*1e4)  # Ajustar os ticks no eixo x para os valores únicos\n",
    "    #plt.yticks(np.unique(y)*1e4)  # Ajustar os ticks no eixo y para os valores únicos\n",
    "    plt.xlabel(f'{xlabel}', fontsize=14, weight='bold')\n",
    "    plt.ylabel(r'{}'.format(ylabel), fontsize=14, weight='bold')\n",
    "    plt.plot(x_grafico2*1e4, y_grafico2*1e4, color='green')\n",
    "    plt.plot(x_grafico*1e4, y_grafico*1e4, color='red', label=f'D = {coeficientes[0]:.2f}/V')\n",
    "    plt.legend()\n",
    "    #plt.xticks(np.arange(min(x), max(x) + tick_spacing, tick_spacing))\n",
    "    #plt.plot(xl,yl)\n",
    "    plt.show()\n",
    "    \n",
    "    coef = coeficientes[0]\n",
    "    num = 8*h**2*R**2\n",
    "    den = 2*me*carga*coef\n",
    "\n",
    "    d = np.sqrt(num/den)\n",
    "    d_ang = d * 1e10\n",
    "    #print(d)\n",
    "    print('O valor da variavel d é: {:.2f} A'.format(d_ang))\n",
    "    #print(f'{d_ang:.2e}')\n",
    "    \n",
    "    #return d_ang"
   ]
  },
  {
   "cell_type": "code",
   "execution_count": 5,
   "id": "489222d2-f7f1-44fa-8595-1d014718a31d",
   "metadata": {},
   "outputs": [
    {
     "data": {
      "image/png": "[encoded data removed]",
      "text/plain": [
       "<Figure size 640x480 with 1 Axes>"
      ]
     },
     "metadata": {},
     "output_type": "display_data"
    },
    {
     "name": "stdout",
     "output_type": "stream",
     "text": [
      "O valor da variavel d é: 1.32 A\n"
     ]
    }
   ],
   "source": [
    "y1 = df['D1']**2\n",
    "x1 = 1/df['V']\n",
    "\n",
    "lab_moderna(x1,y1,x_max=4,y_max=10,xlabel='1/V',ylabel='D1',title='D1 x V')"
   ]
  },
  {
   "cell_type": "code",
   "execution_count": 6,
   "id": "64560206-e1c2-40c6-ad11-e273468f4d5e",
   "metadata": {},
   "outputs": [
    {
     "data": {
      "image/png": "[encoded data removed]",
      "text/plain": [
       "<Figure size 640x480 with 1 Axes>"
      ]
     },
     "metadata": {},
     "output_type": "display_data"
    },
    {
     "name": "stdout",
     "output_type": "stream",
     "text": [
      "O valor da variavel d é: 0.85 A\n"
     ]
    }
   ],
   "source": [
    "y2 = df['D2']**2\n",
    "x2 = 1/df['V']\n",
    "\n",
    "lab_moderna(x2,y2,x_max=4,y_max=30, xlabel='1/V',ylabel='D2',title='D2 x V')"
   ]
  },
  {
   "cell_type": "code",
   "execution_count": 7,
   "id": "68d3b8ed-ba33-4fe0-8a4e-1a3764f62d57",
   "metadata": {},
   "outputs": [],
   "source": [
    "valor_experiental=0.85/1.32\n",
    "valor_real = 1.23/2.13"
   ]
  },
  {
   "cell_type": "code",
   "execution_count": 8,
   "id": "9e109dae-fb86-4a58-9910-8e207ad403ac",
   "metadata": {},
   "outputs": [
    {
     "data": {
      "text/plain": [
       "0.6439393939393939"
      ]
     },
     "execution_count": 8,
     "metadata": {},
     "output_type": "execute_result"
    }
   ],
   "source": [
    "valor_experiental"
   ]
  },
  {
   "cell_type": "code",
   "execution_count": 9,
   "id": "830d4366-d0b5-4bd4-bb4a-1f9354797795",
   "metadata": {},
   "outputs": [
    {
     "data": {
      "text/plain": [
       "0.5774647887323944"
      ]
     },
     "execution_count": 9,
     "metadata": {},
     "output_type": "execute_result"
    }
   ],
   "source": [
    "valor_real"
   ]
  },
  {
   "cell_type": "code",
   "execution_count": 11,
   "id": "4056c2b0-8aff-44ee-aad0-c259078b5c87",
   "metadata": {},
   "outputs": [],
   "source": [
    "erro_relativo = abs(valor_experiental-valor_real)/valor_real\n",
    "erro_relativo_percentual = erro_relativo*100"
   ]
  },
  {
   "cell_type": "code",
   "execution_count": 12,
   "id": "accf09b0-917f-4873-b9c1-b5065c313d1d",
   "metadata": {},
   "outputs": [
    {
     "name": "stdout",
     "output_type": "stream",
     "text": [
      "11.51 %\n"
     ]
    }
   ],
   "source": [
    "print(f'{erro_relativo_percentual:.2f}','%')"
   ]
  },
  {
   "cell_type": "code",
   "execution_count": null,
   "id": "70dc40f2-ca67-4d73-a3dc-9c84a6fefc27",
   "metadata": {},
   "outputs": [],
   "source": []
  }
 ],
 "metadata": {
  "kernelspec": {
   "display_name": "Python 3 (ipykernel)",
   "language": "python",
   "name": "python3"
  },
  "language_info": {
   "codemirror_mode": {
    "name": "ipython",
    "version": 3
   },
   "file_extension": ".py",
   "mimetype": "text/x-python",
   "name": "python",
   "nbconvert_exporter": "python",
   "pygments_lexer": "ipython3",
   "version": "3.11.7"
  }
 },
 "nbformat": 4,
 "nbformat_minor": 5
}
